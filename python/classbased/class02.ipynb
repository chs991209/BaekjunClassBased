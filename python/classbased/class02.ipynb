{
 "cells": [
  {
   "metadata": {},
   "cell_type": "markdown",
   "source": [
    "알파벳 소문자로 이루어진 N개의 단어가 들어오면 아래와 같은 조건에 따라 정렬하는 프로그램을 작성하시오.\n",
    "\n",
    "길이가 짧은 것부터\n",
    "길이가 같으면 사전 순으로\n",
    "단, 중복된 단어는 하나만 남기고 제거해야 한다.\n",
    "\n",
    "입력\n",
    "첫째 줄에 단어의 개수 N이 주어진다. (1 ≤ N ≤ 20,000) 둘째 줄부터 N개의 줄에 걸쳐 알파벳 소문자로 이루어진 단어가 한 줄에 하나씩 주어진다. 주어지는 문자열의 길이는 50을 넘지 않는다.\n",
    "\n",
    "출력\n",
    "조건에 따라 정렬하여 단어들을 출력한다.\n",
    "\n",
    "예제 입력 1 \n",
    "13\n",
    "but\n",
    "i\n",
    "wont\n",
    "hesitate\n",
    "no\n",
    "more\n",
    "no\n",
    "more\n",
    "it\n",
    "cannot\n",
    "wait\n",
    "im\n",
    "yours\n",
    "\n",
    "예제 출력 1 \n",
    "i\n",
    "im\n",
    "it\n",
    "no\n",
    "but\n",
    "more\n",
    "wait\n",
    "wont\n",
    "yours\n",
    "cannot\n",
    "hesitate"
   ],
   "id": "a5c30dedd5f03960"
  },
  {
   "cell_type": "code",
   "id": "initial_id",
   "metadata": {
    "collapsed": true,
    "ExecuteTime": {
     "end_time": "2024-12-05T09:42:49.884169Z",
     "start_time": "2024-12-05T09:42:49.859820Z"
    }
   },
   "source": [
    "import sys\n",
    "from collections import OrderedDict\n",
    "\n",
    "input = sys.stdin.readline\n",
    "\n",
    "\n",
    "def sort_words():\n",
    "    words_num_N = int(input().strip())\n",
    "    words_dict = {}\n",
    "    for _ in range(words_num_N):\n",
    "        word = input().strip()  # type: str\n",
    "        word_length = len(word)  # type: int\n",
    "\n",
    "        if word_length not in words_dict:\n",
    "            words_dict[word_length] = set()  # key: int, value: set\n",
    "\n",
    "        words_dict[word_length].add(word)  # key: int, value: set\n",
    "\n",
    "    words_ordered_dict = OrderedDict(sorted(words_dict.items(), key=lambda x: x[0]))\n",
    "\n",
    "    for val in words_ordered_dict.values():\n",
    "        for word in sorted(list(val)):\n",
    "            print(word)\n",
    "\n",
    "\n",
    "sort_words()"
   ],
   "outputs": [
    {
     "ename": "ValueError",
     "evalue": "invalid literal for int() with base 10: ''",
     "output_type": "error",
     "traceback": [
      "\u001b[1;31m---------------------------------------------------------------------------\u001b[0m",
      "\u001b[1;31mValueError\u001b[0m                                Traceback (most recent call last)",
      "Cell \u001b[1;32mIn[19], line 31\u001b[0m\n\u001b[0;32m     23\u001b[0m                 \u001b[38;5;28mprint\u001b[39m(word)\n\u001b[0;32m     24\u001b[0m         \u001b[38;5;66;03m# if len(list_of_words) > 1:\u001b[39;00m\n\u001b[0;32m     25\u001b[0m         \u001b[38;5;66;03m#     for word in sorted(list_of_words):\u001b[39;00m\n\u001b[0;32m     26\u001b[0m         \u001b[38;5;66;03m#         print(word)\u001b[39;00m\n\u001b[0;32m     27\u001b[0m         \u001b[38;5;66;03m# else:\u001b[39;00m\n\u001b[0;32m     28\u001b[0m         \u001b[38;5;66;03m#     print(list(val)[0])\u001b[39;00m\n\u001b[1;32m---> 31\u001b[0m sort_words()\n",
      "Cell \u001b[1;32mIn[19], line 8\u001b[0m, in \u001b[0;36msort_words\u001b[1;34m()\u001b[0m\n\u001b[0;32m      7\u001b[0m \u001b[38;5;28;01mdef\u001b[39;00m \u001b[38;5;21msort_words\u001b[39m():\n\u001b[1;32m----> 8\u001b[0m     words_num_N \u001b[38;5;241m=\u001b[39m \u001b[38;5;28mint\u001b[39m(\u001b[38;5;28minput\u001b[39m()\u001b[38;5;241m.\u001b[39mstrip())\n\u001b[0;32m      9\u001b[0m     words_dict \u001b[38;5;241m=\u001b[39m {}\n\u001b[0;32m     10\u001b[0m     \u001b[38;5;28;01mfor\u001b[39;00m _ \u001b[38;5;129;01min\u001b[39;00m \u001b[38;5;28mrange\u001b[39m(words_num_N):\n",
      "\u001b[1;31mValueError\u001b[0m: invalid literal for int() with base 10: ''"
     ]
    }
   ],
   "execution_count": 19
  },
  {
   "metadata": {},
   "cell_type": "code",
   "outputs": [],
   "execution_count": null,
   "source": "",
   "id": "9a8ef9b163cd81fe"
  }
 ],
 "metadata": {
  "kernelspec": {
   "display_name": "Python 3",
   "language": "python",
   "name": "python3"
  },
  "language_info": {
   "codemirror_mode": {
    "name": "ipython",
    "version": 2
   },
   "file_extension": ".py",
   "mimetype": "text/x-python",
   "name": "python",
   "nbconvert_exporter": "python",
   "pygments_lexer": "ipython2",
   "version": "2.7.6"
  }
 },
 "nbformat": 4,
 "nbformat_minor": 5
}
