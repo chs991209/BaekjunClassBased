{
 "cells": [
  {
   "metadata": {},
   "cell_type": "markdown",
   "source": [
    "# This is a sample Jupyter Notebook\n",
    "\n",
    "Below is an example of a code cell. \n",
    "Put your cursor into the cell and press Shift+Enter to execute it and select the next one, or click 'Run Cell' button.\n",
    "\n",
    "Press Double Shift to search everywhere for classes, files, tool windows, actions, and settings.\n",
    "\n",
    "To learn more about Jupyter Notebooks in PyCharm, see [help](https://www.jetbrains.com/help/pycharm/ipython-notebook-support.html).\n",
    "For an overview of PyCharm, go to Help -> Learn IDE features or refer to [our documentation](https://www.jetbrains.com/help/pycharm/getting-started.html)."
   ],
   "id": "8a77807f92f26ee"
  },
  {
   "metadata": {
    "ExecuteTime": {
     "end_time": "2024-11-28T07:20:36.451157Z",
     "start_time": "2024-11-28T07:20:36.432158Z"
    }
   },
   "cell_type": "code",
   "source": [
    "print(\"Hello World!\")"
   ],
   "id": "fbc121e30a2defb3",
   "outputs": [
    {
     "name": "stdout",
     "output_type": "stream",
     "text": [
      "Hello World!\n"
     ]
    }
   ],
   "execution_count": 1
  },
  {
   "metadata": {},
   "cell_type": "markdown",
   "source": "ddd",
   "id": "f4e9a570dab80cdb"
  },
  {
   "metadata": {
    "ExecuteTime": {
     "end_time": "2024-11-28T07:29:39.885512Z",
     "start_time": "2024-11-28T07:29:37.277536Z"
    }
   },
   "cell_type": "code",
   "source": [
    "input_a_b = input()\n",
    "sliced_input = input_a_b.split(\" \")\n",
    "print(int(sliced_input[0]) + int(sliced_input[1]))"
   ],
   "id": "a19156f37b24e7c9",
   "outputs": [
    {
     "name": "stdout",
     "output_type": "stream",
     "text": [
      "5\n"
     ]
    }
   ],
   "execution_count": 8
  },
  {
   "metadata": {
    "ExecuteTime": {
     "end_time": "2024-11-28T07:39:55.257286Z",
     "start_time": "2024-11-28T07:39:50.743421Z"
    }
   },
   "cell_type": "code",
   "source": [
    "def add_input_integers():\n",
    "    input_a_b = input()\n",
    "    sliced_input = input_a_b.split(\" \")\n",
    "    print(int(sliced_input[0]) + int(sliced_input[1]))\n",
    "\n",
    "\n",
    "def add_input_integers_v2():\n",
    "    input_a_b = input()\n",
    "    str_a, str_b = input_a_b.split(\" \")\n",
    "    print(int(str_a) + int(str_b))\n",
    "\n",
    "\n",
    "add_input_integers()\n",
    "add_input_integers_v2()"
   ],
   "id": "d034b42bd98a899e",
   "outputs": [
    {
     "name": "stdout",
     "output_type": "stream",
     "text": [
      "5\n",
      "6\n"
     ]
    }
   ],
   "execution_count": 10
  },
  {
   "metadata": {},
   "cell_type": "markdown",
   "source": [
    "두 정수 A와 B를 입력받은 다음, A/B를 출력하는 프로그램을 작성하시오.\n",
    "\n",
    "입력\n",
    "첫째 줄에 A와 B가 주어진다. (0 < A, B < 10)\n",
    "\n",
    "출력\n",
    "첫째 줄에 A/B를 출력한다. 실제 정답과 출력값의 절대오차 또는 상대오차가 10-9 이하이면 정답이다.\n",
    "\n",
    "예제 입력 1 \n",
    "1 3\n",
    "예제 출력 1 \n",
    "0.33333333333333333333333333333333"
   ],
   "id": "1d0aedb3985d61d7"
  },
  {
   "metadata": {
    "ExecuteTime": {
     "end_time": "2024-11-28T16:33:23.885317Z",
     "start_time": "2024-11-28T16:33:14.514392Z"
    }
   },
   "cell_type": "code",
   "source": [
    "def divide_a_w_b():\n",
    "    input_a_b = input()\n",
    "    str_a, str_b = input_a_b.split(\" \")\n",
    "    print(int(str_a) / int(str_b))\n",
    "\n",
    "\n",
    "def divide_a_w_b_v2():\n",
    "    a, b = map(int, input().split(\" \"))\n",
    "    print(a / b)\n",
    "\n",
    "\n",
    "divide_a_w_b()\n",
    "divide_a_w_b_v2()"
   ],
   "id": "5f6c93b3d71a83e2",
   "outputs": [
    {
     "name": "stdout",
     "output_type": "stream",
     "text": [
      "0.6666666666666666\n",
      "0.5\n"
     ]
    }
   ],
   "execution_count": 1
  },
  {
   "metadata": {},
   "cell_type": "markdown",
   "source": [
    "두 정수 A와 B를 입력받은 다음, A-B를 출력하는 프로그램을 작성하시오.\n",
    "\n",
    "입력\n",
    "첫째 줄에 A와 B가 주어진다. (0 < A, B < 10)\n",
    "\n",
    "출력\n",
    "첫째 줄에 A-B를 출력한다."
   ],
   "id": "b48508f2b2d8d017"
  },
  {
   "metadata": {
    "ExecuteTime": {
     "end_time": "2024-11-28T07:51:58.887070Z",
     "start_time": "2024-11-28T07:51:57.553942Z"
    }
   },
   "cell_type": "code",
   "source": [
    "def subtract_b_from_a():\n",
    "    input_a_b = input()\n",
    "    str_a, str_b = input_a_b.split(\" \")\n",
    "    print(int(str_a) - int(str_b))\n",
    "\n",
    "\n",
    "subtract_b_from_a()"
   ],
   "id": "7f1f16c69d3f444",
   "outputs": [
    {
     "ename": "KeyboardInterrupt",
     "evalue": "Interrupted by user",
     "output_type": "error",
     "traceback": [
      "\u001b[1;31m---------------------------------------------------------------------------\u001b[0m",
      "\u001b[1;31mKeyboardInterrupt\u001b[0m                         Traceback (most recent call last)",
      "\u001b[1;32m<ipython-input-4-3f52d42580fc>\u001b[0m in \u001b[0;36m<module>\u001b[1;34m\u001b[0m\n\u001b[0;32m      4\u001b[0m     \u001b[0mprint\u001b[0m\u001b[1;33m(\u001b[0m\u001b[0mint\u001b[0m\u001b[1;33m(\u001b[0m\u001b[0mstr_a\u001b[0m\u001b[1;33m)\u001b[0m \u001b[1;33m-\u001b[0m \u001b[0mint\u001b[0m\u001b[1;33m(\u001b[0m\u001b[0mstr_b\u001b[0m\u001b[1;33m)\u001b[0m\u001b[1;33m)\u001b[0m\u001b[1;33m\u001b[0m\u001b[1;33m\u001b[0m\u001b[0m\n\u001b[0;32m      5\u001b[0m \u001b[1;33m\u001b[0m\u001b[0m\n\u001b[1;32m----> 6\u001b[1;33m \u001b[0msubtract_b_from_a\u001b[0m\u001b[1;33m(\u001b[0m\u001b[1;33m)\u001b[0m\u001b[1;33m\u001b[0m\u001b[1;33m\u001b[0m\u001b[0m\n\u001b[0m",
      "\u001b[1;32m<ipython-input-4-3f52d42580fc>\u001b[0m in \u001b[0;36msubtract_b_from_a\u001b[1;34m()\u001b[0m\n\u001b[0;32m      1\u001b[0m \u001b[1;32mdef\u001b[0m \u001b[0msubtract_b_from_a\u001b[0m\u001b[1;33m(\u001b[0m\u001b[1;33m)\u001b[0m\u001b[1;33m:\u001b[0m\u001b[1;33m\u001b[0m\u001b[1;33m\u001b[0m\u001b[0m\n\u001b[1;32m----> 2\u001b[1;33m     \u001b[0minput_a_b\u001b[0m \u001b[1;33m=\u001b[0m \u001b[0minput\u001b[0m\u001b[1;33m(\u001b[0m\u001b[1;33m)\u001b[0m\u001b[1;33m\u001b[0m\u001b[1;33m\u001b[0m\u001b[0m\n\u001b[0m\u001b[0;32m      3\u001b[0m     \u001b[0mstr_a\u001b[0m\u001b[1;33m,\u001b[0m \u001b[0mstr_b\u001b[0m \u001b[1;33m=\u001b[0m \u001b[0minput_a_b\u001b[0m\u001b[1;33m.\u001b[0m\u001b[0msplit\u001b[0m\u001b[1;33m(\u001b[0m\u001b[1;34m' '\u001b[0m\u001b[1;33m)\u001b[0m\u001b[1;33m\u001b[0m\u001b[1;33m\u001b[0m\u001b[0m\n\u001b[0;32m      4\u001b[0m     \u001b[0mprint\u001b[0m\u001b[1;33m(\u001b[0m\u001b[0mint\u001b[0m\u001b[1;33m(\u001b[0m\u001b[0mstr_a\u001b[0m\u001b[1;33m)\u001b[0m \u001b[1;33m-\u001b[0m \u001b[0mint\u001b[0m\u001b[1;33m(\u001b[0m\u001b[0mstr_b\u001b[0m\u001b[1;33m)\u001b[0m\u001b[1;33m)\u001b[0m\u001b[1;33m\u001b[0m\u001b[1;33m\u001b[0m\u001b[0m\n\u001b[0;32m      5\u001b[0m \u001b[1;33m\u001b[0m\u001b[0m\n",
      "\u001b[1;32m~\\anaconda3\\lib\\site-packages\\ipykernel\\kernelbase.py\u001b[0m in \u001b[0;36mraw_input\u001b[1;34m(self, prompt)\u001b[0m\n\u001b[0;32m    858\u001b[0m                 \u001b[1;34m\"raw_input was called, but this frontend does not support input requests.\"\u001b[0m\u001b[1;33m\u001b[0m\u001b[1;33m\u001b[0m\u001b[0m\n\u001b[0;32m    859\u001b[0m             )\n\u001b[1;32m--> 860\u001b[1;33m         return self._input_request(str(prompt),\n\u001b[0m\u001b[0;32m    861\u001b[0m             \u001b[0mself\u001b[0m\u001b[1;33m.\u001b[0m\u001b[0m_parent_ident\u001b[0m\u001b[1;33m,\u001b[0m\u001b[1;33m\u001b[0m\u001b[1;33m\u001b[0m\u001b[0m\n\u001b[0;32m    862\u001b[0m             \u001b[0mself\u001b[0m\u001b[1;33m.\u001b[0m\u001b[0m_parent_header\u001b[0m\u001b[1;33m,\u001b[0m\u001b[1;33m\u001b[0m\u001b[1;33m\u001b[0m\u001b[0m\n",
      "\u001b[1;32m~\\anaconda3\\lib\\site-packages\\ipykernel\\kernelbase.py\u001b[0m in \u001b[0;36m_input_request\u001b[1;34m(self, prompt, ident, parent, password)\u001b[0m\n\u001b[0;32m    902\u001b[0m             \u001b[1;32mexcept\u001b[0m \u001b[0mKeyboardInterrupt\u001b[0m\u001b[1;33m:\u001b[0m\u001b[1;33m\u001b[0m\u001b[1;33m\u001b[0m\u001b[0m\n\u001b[0;32m    903\u001b[0m                 \u001b[1;31m# re-raise KeyboardInterrupt, to truncate traceback\u001b[0m\u001b[1;33m\u001b[0m\u001b[1;33m\u001b[0m\u001b[1;33m\u001b[0m\u001b[0m\n\u001b[1;32m--> 904\u001b[1;33m                 \u001b[1;32mraise\u001b[0m \u001b[0mKeyboardInterrupt\u001b[0m\u001b[1;33m(\u001b[0m\u001b[1;34m\"Interrupted by user\"\u001b[0m\u001b[1;33m)\u001b[0m \u001b[1;32mfrom\u001b[0m \u001b[1;32mNone\u001b[0m\u001b[1;33m\u001b[0m\u001b[1;33m\u001b[0m\u001b[0m\n\u001b[0m\u001b[0;32m    905\u001b[0m             \u001b[1;32mexcept\u001b[0m \u001b[0mException\u001b[0m \u001b[1;32mas\u001b[0m \u001b[0me\u001b[0m\u001b[1;33m:\u001b[0m\u001b[1;33m\u001b[0m\u001b[1;33m\u001b[0m\u001b[0m\n\u001b[0;32m    906\u001b[0m                 \u001b[0mself\u001b[0m\u001b[1;33m.\u001b[0m\u001b[0mlog\u001b[0m\u001b[1;33m.\u001b[0m\u001b[0mwarning\u001b[0m\u001b[1;33m(\u001b[0m\u001b[1;34m\"Invalid Message:\"\u001b[0m\u001b[1;33m,\u001b[0m \u001b[0mexc_info\u001b[0m\u001b[1;33m=\u001b[0m\u001b[1;32mTrue\u001b[0m\u001b[1;33m)\u001b[0m\u001b[1;33m\u001b[0m\u001b[1;33m\u001b[0m\u001b[0m\n",
      "\u001b[1;31mKeyboardInterrupt\u001b[0m: Interrupted by user"
     ]
    }
   ],
   "execution_count": 4
  },
  {
   "metadata": {},
   "cell_type": "markdown",
   "source": [
    "두 정수 A와 B가 주어졌을 때, A와 B를 비교하는 프로그램을 작성하시오.\n",
    "\n",
    "입력\n",
    "첫째 줄에 A와 B가 주어진다. A와 B는 공백 한 칸으로 구분되어져 있다.\n",
    "\n",
    "출력\n",
    "첫째 줄에 다음 세 가지 중 하나를 출력한다.\n",
    "\n",
    "A가 B보다 큰 경우에는 '>'를 출력한다.\n",
    "A가 B보다 작은 경우에는 '<'를 출력한다.\n",
    "A와 B가 같은 경우에는 '=='를 출력한다.\n",
    "제한\n",
    "-10,000 ≤ A, B ≤ 10,000"
   ],
   "id": "35371789f8ff6d5e"
  },
  {
   "metadata": {
    "ExecuteTime": {
     "end_time": "2024-11-28T07:56:31.255023Z",
     "start_time": "2024-11-28T07:56:22.697421Z"
    }
   },
   "cell_type": "code",
   "source": [
    "def compare_a_w_b():\n",
    "    input_a_b = input()\n",
    "    str_a, str_b = input_a_b.split(\" \")\n",
    "    a, b = int(str_a), int(str_b)\n",
    "    if a - b > 0:\n",
    "        print(\">\")\n",
    "    elif a - b < 0:\n",
    "        print(\"<\")\n",
    "    else:\n",
    "        print(\"==\")\n",
    "\n",
    "\n",
    "compare_a_w_b()"
   ],
   "id": "a0f65f07ee957c1e",
   "outputs": [
    {
     "name": "stdout",
     "output_type": "stream",
     "text": [
      "<\n"
     ]
    }
   ],
   "execution_count": 5
  },
  {
   "metadata": {},
   "cell_type": "markdown",
   "source": [
    "첫째 줄에는 별 1개, 둘째 줄에는 별 2개, N번째 줄에는 별 N개를 찍는 문제\n",
    "\n",
    "입력\n",
    "첫째 줄에 N(1 ≤ N ≤ 100)이 주어진다.\n",
    "\n",
    "출력\n",
    "첫째 줄부터 N번째 줄까지 차례대로 별을 출력한다."
   ],
   "id": "9378829e05a00381"
  },
  {
   "metadata": {
    "ExecuteTime": {
     "end_time": "2024-11-28T08:03:06.098551Z",
     "start_time": "2024-11-28T08:03:03.643963Z"
    }
   },
   "cell_type": "code",
   "source": [
    "def printout_stars():\n",
    "    input_N = int(input())\n",
    "    for _ in range(1, input_N + 1):\n",
    "        print(\"*\" * _)\n",
    "\n",
    "\n",
    "printout_stars()"
   ],
   "id": "bbb8e22336ddc121",
   "outputs": [
    {
     "name": "stdout",
     "output_type": "stream",
     "text": [
      "*\n",
      "**\n",
      "***\n",
      "****\n",
      "*****\n"
     ]
    }
   ],
   "execution_count": 6
  },
  {
   "metadata": {},
   "cell_type": "markdown",
   "source": [
    "컴퓨터를 제조하는 회사인 KOI 전자에서는 제조하는 컴퓨터마다 6자리의 고유번호를 매긴다. 고유번호의 처음 5자리에는 00000부터 99999까지의 수 중 하나가 주어지며 6번째 자리에는 검증수가 들어간다. 검증수는 고유번호의 처음 5자리에 들어가는 5개의 숫자를 각각 제곱한 수의 합을 10으로 나눈 나머지이다.\n",
    "\n",
    "예를 들어 고유번호의 처음 5자리의 숫자들이 04256이면, 각 숫자를 제곱한 수들의 합 0+16+4+25+36 = 81 을 10으로 나눈 나머지인 1이 검증수이다.\n",
    "\n",
    "입력\n",
    "첫째 줄에 고유번호의 처음 5자리의 숫자들이 빈칸을 사이에 두고 하나씩 주어진다.\n",
    "\n",
    "출력\n",
    "첫째 줄에 검증수를 출력한다."
   ],
   "id": "c48ad83c778910ba"
  },
  {
   "metadata": {
    "ExecuteTime": {
     "end_time": "2024-11-28T08:26:15.442720Z",
     "start_time": "2024-11-28T08:26:13.590813Z"
    }
   },
   "cell_type": "code",
   "source": [
    "def printout_confirmation_number():\n",
    "    input_serial_nums = input().split(\" \")\n",
    "    remainder_of_serial_nums = [\n",
    "        (int(str_serial_num) ** 2 % 10) for str_serial_num in input_serial_nums\n",
    "    ]\n",
    "    confirmation_num = sum(remainder_of_serial_nums) % 10\n",
    "    print(confirmation_num)\n",
    "\n",
    "\n",
    "printout_confirmation_number()"
   ],
   "id": "64fabb16dfdb2104",
   "outputs": [
    {
     "name": "stdout",
     "output_type": "stream",
     "text": [
      "1\n"
     ]
    }
   ],
   "execution_count": 18
  },
  {
   "metadata": {
    "ExecuteTime": {
     "end_time": "2024-11-28T08:22:21.874878Z",
     "start_time": "2024-11-28T08:22:20.673184Z"
    }
   },
   "cell_type": "code",
   "source": [
    "def printout_confirmation_number_v2():\n",
    "    input_serial_nums = map(int, input().split(\" \"))\n",
    "    last_nums_of_serial_nums = [\n",
    "        int(str(serial_num**2)[-1]) for serial_num in input_serial_nums\n",
    "    ]\n",
    "    confirmation_num = int(str(sum(last_nums_of_serial_nums))[-1])\n",
    "    print(confirmation_num)\n",
    "\n",
    "\n",
    "printout_confirmation_number_v2()"
   ],
   "id": "8887e3a2a753ee11",
   "outputs": [
    {
     "name": "stdout",
     "output_type": "stream",
     "text": [
      "1\n"
     ]
    }
   ],
   "execution_count": 12
  },
  {
   "metadata": {},
   "cell_type": "markdown",
   "source": [
    "Hello World!를 출력하시오.\n",
    "\n",
    "입력\n",
    "없음\n",
    "\n",
    "출력\n",
    "Hello World!를 출력하시오."
   ],
   "id": "29b4d5ecabfca65e"
  },
  {
   "metadata": {},
   "cell_type": "code",
   "outputs": [],
   "execution_count": null,
   "source": "print(\"Hello World!\")",
   "id": "51f54e933a38af80"
  },
  {
   "metadata": {},
   "cell_type": "markdown",
   "source": [
    "N을 입력받은 뒤, 구구단 N단을 출력하는 프로그램을 작성하시오. 출력 형식에 맞춰서 출력하면 된다.\n",
    "\n",
    "입력\n",
    "첫째 줄에 N이 주어진다. N은 1보다 크거나 같고, 9보다 작거나 같다.\n",
    "\n",
    "출력\n",
    "출력형식과 같게 N*1부터 N*9까지 출력한다."
   ],
   "id": "637743ce63814d97"
  },
  {
   "metadata": {
    "ExecuteTime": {
     "end_time": "2024-11-28T08:49:25.135179Z",
     "start_time": "2024-11-28T08:49:24.210178Z"
    }
   },
   "cell_type": "code",
   "source": [
    "def multiply_one_to_nine():\n",
    "    input_N = int(input())\n",
    "    for _ in range(1, 10):\n",
    "        print(f\"{input_N} * {_} = {input_N * _}\")\n",
    "\n",
    "\n",
    "multiply_one_to_nine()"
   ],
   "id": "bc01eb32abc93e22",
   "outputs": [
    {
     "name": "stdout",
     "output_type": "stream",
     "text": [
      "2 * 1 = 2\n",
      "2 * 2 = 4\n",
      "2 * 3 = 6\n",
      "2 * 4 = 8\n",
      "2 * 5 = 10\n",
      "2 * 6 = 12\n",
      "2 * 7 = 14\n",
      "2 * 8 = 16\n",
      "2 * 9 = 18\n"
     ]
    }
   ],
   "execution_count": 25
  },
  {
   "metadata": {
    "ExecuteTime": {
     "end_time": "2024-11-28T10:33:28.115073Z",
     "start_time": "2024-11-28T10:33:26.017756Z"
    }
   },
   "cell_type": "code",
   "source": [
    "def multiply_one_to_nine_v2():\n",
    "    input_N = int(input())\n",
    "    for _ in range(1, 10):\n",
    "        print(\"{} * {} = {}\".format(input_N, _, input_N * _))\n",
    "\n",
    "\n",
    "multiply_one_to_nine_v2()"
   ],
   "id": "64c5d49b988cbd9",
   "outputs": [
    {
     "name": "stdout",
     "output_type": "stream",
     "text": [
      "2 * 1 = 2\n",
      "2 * 2 = 4\n",
      "2 * 3 = 6\n",
      "2 * 4 = 8\n",
      "2 * 5 = 10\n",
      "2 * 6 = 12\n",
      "2 * 7 = 14\n",
      "2 * 8 = 16\n",
      "2 * 9 = 18\n"
     ]
    }
   ],
   "execution_count": 48
  },
  {
   "metadata": {},
   "cell_type": "markdown",
   "source": [
    "자연수 N이 주어졌을 때, 1부터 N까지 한 줄에 하나씩 출력하는 프로그램을 작성하시오.\n",
    "\n",
    "입력\n",
    "첫째 줄에 100,000보다 작거나 같은 자연수 N이 주어진다.\n",
    "\n",
    "출력\n",
    "첫째 줄부터 N번째 줄 까지 차례대로 출력한다."
   ],
   "id": "d601711cc1b7b715"
  },
  {
   "metadata": {
    "ExecuteTime": {
     "end_time": "2024-11-28T08:55:14.023117Z",
     "start_time": "2024-11-28T08:55:10.923734Z"
    }
   },
   "cell_type": "code",
   "source": [
    "def printout_to_N():\n",
    "    input_N = int(input())\n",
    "    for _ in range(1, input_N + 1):\n",
    "        print(_)\n",
    "\n",
    "\n",
    "printout_to_N()"
   ],
   "id": "5b7dcd0aef5750a3",
   "outputs": [
    {
     "name": "stdout",
     "output_type": "stream",
     "text": [
      "1\n",
      "2\n",
      "3\n",
      "4\n",
      "5\n",
      "6\n",
      "7\n",
      "8\n",
      "9\n",
      "10\n",
      "11\n",
      "12\n",
      "13\n",
      "14\n",
      "15\n",
      "16\n",
      "17\n",
      "18\n",
      "19\n",
      "20\n",
      "21\n",
      "22\n",
      "23\n",
      "24\n",
      "25\n",
      "26\n",
      "27\n",
      "28\n",
      "29\n",
      "30\n",
      "31\n",
      "32\n",
      "33\n",
      "34\n",
      "35\n",
      "36\n",
      "37\n",
      "38\n",
      "39\n",
      "40\n",
      "41\n",
      "42\n",
      "43\n",
      "44\n",
      "45\n",
      "46\n",
      "47\n",
      "48\n",
      "49\n",
      "50\n",
      "51\n",
      "52\n",
      "53\n",
      "54\n",
      "55\n",
      "56\n",
      "57\n",
      "58\n",
      "59\n",
      "60\n",
      "61\n",
      "62\n",
      "63\n",
      "64\n",
      "65\n",
      "66\n",
      "67\n",
      "68\n",
      "69\n",
      "70\n",
      "71\n",
      "72\n",
      "73\n",
      "74\n",
      "75\n",
      "76\n",
      "77\n",
      "78\n",
      "79\n",
      "80\n",
      "81\n",
      "82\n",
      "83\n",
      "84\n",
      "85\n",
      "86\n",
      "87\n",
      "88\n",
      "89\n",
      "90\n",
      "91\n",
      "92\n",
      "93\n",
      "94\n",
      "95\n",
      "96\n",
      "97\n",
      "98\n",
      "99\n",
      "100\n",
      "101\n",
      "102\n",
      "103\n",
      "104\n",
      "105\n",
      "106\n",
      "107\n",
      "108\n",
      "109\n",
      "110\n",
      "111\n",
      "112\n",
      "113\n",
      "114\n",
      "115\n",
      "116\n",
      "117\n",
      "118\n",
      "119\n",
      "120\n",
      "121\n",
      "122\n",
      "123\n",
      "124\n",
      "125\n",
      "126\n",
      "127\n",
      "128\n",
      "129\n",
      "130\n",
      "131\n",
      "132\n",
      "133\n",
      "134\n",
      "135\n",
      "136\n",
      "137\n",
      "138\n",
      "139\n",
      "140\n",
      "141\n",
      "142\n",
      "143\n",
      "144\n",
      "145\n",
      "146\n",
      "147\n",
      "148\n",
      "149\n",
      "150\n",
      "151\n",
      "152\n",
      "153\n",
      "154\n",
      "155\n",
      "156\n",
      "157\n",
      "158\n",
      "159\n",
      "160\n",
      "161\n",
      "162\n",
      "163\n",
      "164\n",
      "165\n",
      "166\n",
      "167\n",
      "168\n",
      "169\n",
      "170\n",
      "171\n",
      "172\n",
      "173\n",
      "174\n",
      "175\n",
      "176\n",
      "177\n",
      "178\n",
      "179\n",
      "180\n",
      "181\n",
      "182\n",
      "183\n",
      "184\n",
      "185\n",
      "186\n",
      "187\n",
      "188\n",
      "189\n",
      "190\n",
      "191\n",
      "192\n",
      "193\n",
      "194\n",
      "195\n",
      "196\n",
      "197\n",
      "198\n",
      "199\n"
     ]
    }
   ],
   "execution_count": 28
  },
  {
   "metadata": {},
   "cell_type": "markdown",
   "source": [
    "연도가 주어졌을 때, 윤년이면 1, 아니면 0을 출력하는 프로그램을 작성하시오.\n",
    "\n",
    "윤년은 연도가 4의 배수이면서, 100의 배수가 아닐 때 또는 400의 배수일 때이다.\n",
    "\n",
    "예를 들어, 2012년은 4의 배수이면서 100의 배수가 아니라서 윤년이다. 1900년은 100의 배수이고 400의 배수는 아니기 때문에 윤년이 아니다. 하지만, 2000년은 400의 배수이기 때문에 윤년이다.\n",
    "\n",
    "입력\n",
    "첫째 줄에 연도가 주어진다. 연도는 1보다 크거나 같고, 4000보다 작거나 같은 자연수이다.\n",
    "\n",
    "출력\n",
    "첫째 줄에 윤년이면 1, 아니면 0을 출력한다."
   ],
   "id": "1e14b9196a464c28"
  },
  {
   "metadata": {
    "ExecuteTime": {
     "end_time": "2024-11-28T09:15:51.137867Z",
     "start_time": "2024-11-28T09:15:48.712905Z"
    }
   },
   "cell_type": "code",
   "source": [
    "def is_leap_year():\n",
    "    input_year = int(input())\n",
    "    if input_year % 100 == 0:\n",
    "        print(int(input_year % 400 == 0))\n",
    "    else:\n",
    "        print(int((input_year % 100) % 4 == 0))\n",
    "\n",
    "\n",
    "is_leap_year()"
   ],
   "id": "e09246bc1c80347f",
   "outputs": [
    {
     "name": "stdout",
     "output_type": "stream",
     "text": [
      "0\n"
     ]
    }
   ],
   "execution_count": 33
  },
  {
   "metadata": {
    "ExecuteTime": {
     "end_time": "2024-11-28T09:18:12.613727Z",
     "start_time": "2024-11-28T09:18:09.835658Z"
    }
   },
   "cell_type": "code",
   "source": [
    "def is_leap_year_v2():\n",
    "    input_year = int(input())\n",
    "    if input_year % 100 != 0:\n",
    "        print(int((input_year % 100) % 4 == 0))\n",
    "    else:\n",
    "        print(int(input_year % 400 == 0))\n",
    "\n",
    "\n",
    "is_leap_year_v2()"
   ],
   "id": "8a94b884071a538b",
   "outputs": [
    {
     "name": "stdout",
     "output_type": "stream",
     "text": [
      "0\n"
     ]
    }
   ],
   "execution_count": 35
  },
  {
   "metadata": {},
   "cell_type": "markdown",
   "source": [
    "시험 점수를 입력받아 90 ~ 100점은 A, 80 ~ 89점은 B, 70 ~ 79점은 C, 60 ~ 69점은 D, 나머지 점수는 F를 출력하는 프로그램을 작성하시오.\n",
    "\n",
    "입력\n",
    "첫째 줄에 시험 점수가 주어진다. 시험 점수는 0보다 크거나 같고, 100보다 작거나 같은 정수이다.\n",
    "\n",
    "출력\n",
    "시험 성적을 출력한다."
   ],
   "id": "fd5b78a3022e0d6e"
  },
  {
   "metadata": {
    "ExecuteTime": {
     "end_time": "2024-11-28T10:18:11.720945Z",
     "start_time": "2024-11-28T10:18:09.530052Z"
    }
   },
   "cell_type": "code",
   "source": [
    "def printout_test_grade():\n",
    "    score = int(input())\n",
    "    if 90 <= score <= 100:\n",
    "        print(\"A\")\n",
    "    elif 80 <= score < 90:\n",
    "        print(\"B\")\n",
    "    elif 70 <= score < 80:\n",
    "        print(\"C\")\n",
    "    elif 60 <= score < 70:\n",
    "        print(\"D\")\n",
    "    else:\n",
    "        print(\"F\")\n",
    "\n",
    "\n",
    "# print(\"FFFFFFDCBAA\"[int(input())//10])\n",
    "\n",
    "printout_test_grade()"
   ],
   "id": "34ea1b9fd32e5d76",
   "outputs": [
    {
     "name": "stdout",
     "output_type": "stream",
     "text": [
      "F\n"
     ]
    }
   ],
   "execution_count": 41
  },
  {
   "metadata": {},
   "cell_type": "markdown",
   "source": [
    "아래 예제와 같이 고양이를 출력하시오.\n",
    "\n",
    "입력\n",
    "없음.\n",
    "\n",
    "출력\n",
    "고양이를 출력한다.\n",
    "\n",
    "\\    /\\\n",
    " )  ( ')\n",
    "(  /  )\n",
    " \\(__)|"
   ],
   "id": "55f597716cfb1ae8"
  },
  {
   "metadata": {
    "ExecuteTime": {
     "end_time": "2024-11-28T10:29:48.927950Z",
     "start_time": "2024-11-28T10:29:48.910954Z"
    }
   },
   "cell_type": "code",
   "source": [
    "\"\"\"\n",
    "\\    /\\\\\n",
    " )  ( ')\n",
    "(  /  )\n",
    " \\(__)|\n",
    " \"\"\"\n",
    "\n",
    "\n",
    "def printout_cat():\n",
    "    print(\"\\    /\\\\\\n\" + \" )  ( ')\\n\" + \"(  /  )\\n\" + \" \\(__)|\")\n",
    "\n",
    "\n",
    "printout_cat()"
   ],
   "id": "ea7728ccfcecc56d",
   "outputs": [
    {
     "name": "stdout",
     "output_type": "stream",
     "text": [
      "\n",
      "\\    /\\\n",
      " )  ( ')\n",
      "(  /  )\n",
      " \\(__)|\n",
      " \n"
     ]
    }
   ],
   "execution_count": 47
  },
  {
   "metadata": {},
   "cell_type": "markdown",
   "source": [
    "아래 예제와 같이 개를 출력하시오.\n",
    "\n",
    "입력\n",
    "없음.\n",
    "\n",
    "출력\n",
    "개를 출력한다.\n",
    "\n",
    "|\\_/|\n",
    "|q p|   /}\n",
    "( 0 )\"\"\"\\\n",
    "|\"^\"`    |\n",
    "||_/=\\\\__|\n"
   ],
   "id": "1c8241b86d05b500"
  },
  {
   "metadata": {
    "ExecuteTime": {
     "end_time": "2024-11-28T10:38:58.743642Z",
     "start_time": "2024-11-28T10:38:58.735645Z"
    }
   },
   "cell_type": "code",
   "source": [
    "\"\"\"\n",
    "|\\_/|\n",
    "|q p|   /}\n",
    "( 0 )\\\"\\\"\\\"\\\\\n",
    "|\"^\"`    |\n",
    "||_/=\\\\\\\\__|\n",
    "\"\"\"\n",
    "\n",
    "\n",
    "def printout_dog():\n",
    "    dog = \"\"\"|\\_/|\n",
    "|q p|   /}\n",
    "( 0 )\\\"\\\"\\\"\\\\\n",
    "|\"^\"`    |\n",
    "||_/=\\\\\\\\__|\n",
    "\"\"\"\n",
    "    print(dog)\n",
    "\n",
    "\n",
    "printout_dog()"
   ],
   "id": "2ace56081b157c82",
   "outputs": [
    {
     "name": "stdout",
     "output_type": "stream",
     "text": [
      "\n",
      "|\\_/|\n",
      "|q p|   /}\n",
      "( 0 )\"\"\"\\\n",
      "|\"^\"`    |\n",
      "||_/=\\\\__|\n",
      "\n"
     ]
    }
   ],
   "execution_count": 56
  },
  {
   "metadata": {},
   "cell_type": "markdown",
   "source": [
    "두 자연수 A와 B가 주어진다. 이때, A+B, A-B, A*B, A/B(몫), A%B(나머지)를 출력하는 프로그램을 작성하시오. \n",
    "\n",
    "입력\n",
    "두 자연수 A와 B가 주어진다. (1 ≤ A, B ≤ 10,000)\n",
    "\n",
    "출력\n",
    "첫째 줄에 A+B, 둘째 줄에 A-B, 셋째 줄에 A*B, 넷째 줄에 A/B, 다섯째 줄에 A%B를 출력한다."
   ],
   "id": "dfa82d8262fd54c5"
  },
  {
   "metadata": {
    "ExecuteTime": {
     "end_time": "2024-11-28T10:45:56.385508Z",
     "start_time": "2024-11-28T10:45:53.971152Z"
    }
   },
   "cell_type": "code",
   "source": [
    "def printout_computation_result():\n",
    "    a, b = map(int, input().split(\" \"))\n",
    "    print(\"{}\\n{}\\n{}\\n{}\\n{}\".format(a + b, a - b, a * b, a // b, a % b))\n",
    "\n",
    "\n",
    "printout_computation_result()"
   ],
   "id": "9d42dfcf95329ebd",
   "outputs": [
    {
     "name": "stdout",
     "output_type": "stream",
     "text": [
      "10\n",
      "4\n",
      "21\n",
      "2\n",
      "1\n"
     ]
    }
   ],
   "execution_count": 60
  },
  {
   "metadata": {},
   "cell_type": "markdown",
   "source": [
    "정수 N개로 이루어진 수열 A와 정수 X가 주어진다. 이때, A에서 X보다 작은 수를 모두 출력하는 프로그램을 작성하시오.\n",
    "\n",
    "입력\n",
    "첫째 줄에 N과 X가 주어진다. (1 ≤ N, X ≤ 10,000)\n",
    "\n",
    "둘째 줄에 수열 A를 이루는 정수 N개가 주어진다. 주어지는 정수는 모두 1보다 크거나 같고, 10,000보다 작거나 같은 정수이다.\n",
    "\n",
    "출력\n",
    "X보다 작은 수를 입력받은 순서대로 공백으로 구분해 출력한다. X보다 작은 수는 적어도 하나 존재한다."
   ],
   "id": "6d5af82ff32f9a67"
  },
  {
   "metadata": {
    "ExecuteTime": {
     "end_time": "2024-11-28T12:22:52.043620Z",
     "start_time": "2024-11-28T12:22:41.889777Z"
    }
   },
   "cell_type": "code",
   "source": [
    "def printout_less_than_X():\n",
    "    n, x = map(int, input().split(\" \", 1))\n",
    "    input_sequence = list(map(int, input().split(\" \", n - 1)))\n",
    "\n",
    "    def gen_sequence_elements():\n",
    "        yield from input_sequence\n",
    "\n",
    "    gen = gen_sequence_elements()\n",
    "    for _ in range(n):\n",
    "        el = next(gen)\n",
    "        if el < x:\n",
    "            print(el, end=\" \")\n",
    "\n",
    "\n",
    "printout_less_than_X()"
   ],
   "id": "705d4e245eac6185",
   "outputs": [
    {
     "name": "stdout",
     "output_type": "stream",
     "text": [
      "1 4 2 3 "
     ]
    }
   ],
   "execution_count": 134
  },
  {
   "metadata": {
    "ExecuteTime": {
     "end_time": "2024-11-28T12:24:39.695271Z",
     "start_time": "2024-11-28T12:24:27.387644Z"
    }
   },
   "cell_type": "code",
   "source": [
    "def printout_less_than_X_v2():\n",
    "    n, x = map(int, input().split(\" \", 1))\n",
    "    input_sequence = list(map(int, input().split(\" \", n - 1)))\n",
    "\n",
    "    for el in input_sequence:\n",
    "        if el < x:\n",
    "            print(el, end=\" \")\n",
    "\n",
    "\n",
    "printout_less_than_X_v2()"
   ],
   "id": "27321658785f4dcd",
   "outputs": [
    {
     "name": "stdout",
     "output_type": "stream",
     "text": [
      "1 4 2 3 "
     ]
    }
   ],
   "execution_count": 135
  },
  {
   "metadata": {
    "ExecuteTime": {
     "end_time": "2024-11-28T12:33:41.040698Z",
     "start_time": "2024-11-28T12:33:30.360981Z"
    }
   },
   "cell_type": "code",
   "source": [
    "n, x = map(int, input().split(\" \", 1))\n",
    "input_sequence = list(map(int, input().split(\" \", n - 1)))\n",
    "\n",
    "for el in input_sequence:\n",
    "    if el < x:\n",
    "        print(el, end=\" \")"
   ],
   "id": "52758d3fd7537b3a",
   "outputs": [
    {
     "name": "stdout",
     "output_type": "stream",
     "text": [
      "1 4 2 3 "
     ]
    }
   ],
   "execution_count": 136
  },
  {
   "metadata": {},
   "cell_type": "markdown",
   "source": [
    "두 정수 A와 B를 입력받은 다음, A+B를 출력하는 프로그램을 작성하시오.\n",
    "\n",
    "입력\n",
    "첫째 줄에 테스트 케이스의 개수 T가 주어진다.\n",
    "\n",
    "각 테스트 케이스는 한 줄로 이루어져 있으며, 각 줄에 A와 B가 주어진다. (0 < A, B < 10)\n",
    "\n",
    "출력\n",
    "각 테스트 케이스마다 A+B를 출력한다."
   ],
   "id": "6db9ca014acb8410"
  },
  {
   "metadata": {},
   "cell_type": "code",
   "outputs": [],
   "execution_count": null,
   "source": [
    "# def printout_a_add_b():\n",
    "#     test_case_num_T = int(input())\n",
    "#     for _ in range(test_case_num_T):\n",
    "#         a, b = map(int, input().split(' '))\n",
    "#         print(a + b)\n",
    "#\n",
    "# printout_a_add_b()\n",
    "\n",
    "\n",
    "import sys\n",
    "\n",
    "input = sys.stdin.readline\n",
    "\n",
    "\n",
    "def printout_a_add_b():\n",
    "    test_case_num_T = int(input())\n",
    "    for _ in range(test_case_num_T):\n",
    "        a, b = map(int, input().split(\" \"))\n",
    "        print(a + b)\n",
    "\n",
    "\n",
    "printout_a_add_b()"
   ],
   "id": "674e847aa757ec81"
  },
  {
   "metadata": {},
   "cell_type": "markdown",
   "source": [
    "두 정수 A와 B를 입력받은 다음, A+B를 출력하는 프로그램을 작성하시오.\n",
    "\n",
    "입력\n",
    "입력은 여러 개의 테스트 케이스로 이루어져 있다.\n",
    "\n",
    "각 테스트 케이스는 한 줄로 이루어져 있으며, 각 줄에 A와 B가 주어진다. (0 < A, B < 10)\n",
    "\n",
    "출력\n",
    "각 테스트 케이스마다 A+B를 출력한다."
   ],
   "id": "b7e6e76939f62512"
  },
  {
   "metadata": {},
   "cell_type": "code",
   "outputs": [],
   "execution_count": null,
   "source": [
    "import sys\n",
    "\n",
    "input = sys.stdin.readline\n",
    "\n",
    "\n",
    "def printout_a_add_b_v2():\n",
    "    while True:\n",
    "        try:\n",
    "            print(sum(map(int, input().split(\" \"))))\n",
    "\n",
    "        except:\n",
    "            break\n",
    "\n",
    "\n",
    "printout_a_add_b_v2()"
   ],
   "id": "789fb20b51ff618b"
  },
  {
   "metadata": {},
   "cell_type": "markdown",
   "source": [
    "두 정수 A와 B를 입력받은 다음, A+B를 출력하는 프로그램을 작성하시오.\n",
    "\n",
    "입력\n",
    "입력은 여러 개의 테스트 케이스로 이루어져 있다.\n",
    "\n",
    "각 테스트 케이스는 한 줄로 이루어져 있으며, 각 줄에 A와 B가 주어진다. (0 < A, B < 10)\n",
    "\n",
    "입력의 마지막에는 0 두 개가 들어온다.\n",
    "\n",
    "출력\n",
    "각 테스트 케이스마다 A+B를 출력한다."
   ],
   "id": "3c9e56763ce83b08"
  },
  {
   "metadata": {},
   "cell_type": "code",
   "outputs": [],
   "execution_count": null,
   "source": [
    "import sys\n",
    "\n",
    "input = sys.stdin.readline\n",
    "\n",
    "\n",
    "def printout_a_add_b_v2():\n",
    "    while True:\n",
    "        a_add_b = sum(map(int, input().split(\" \")))\n",
    "        if a_add_b != 0:\n",
    "            print(a_add_b)\n",
    "        else:\n",
    "            break\n",
    "\n",
    "\n",
    "printout_a_add_b_v2()"
   ],
   "id": "696b074273a83251"
  },
  {
   "metadata": {},
   "cell_type": "markdown",
   "source": [
    "두 정수 A와 B를 입력받은 다음, A×B를 출력하는 프로그램을 작성하시오.\n",
    "\n",
    "입력\n",
    "첫째 줄에 A와 B가 주어진다. (0 < A, B < 10)\n",
    "\n",
    "출력\n",
    "첫째 줄에 A×B를 출력한다."
   ],
   "id": "31cdc22ce1eb643e"
  },
  {
   "metadata": {},
   "cell_type": "code",
   "outputs": [],
   "execution_count": null,
   "source": [
    "def printout_a_X_b():\n",
    "    a, b = map(int, input().split(\" \"))\n",
    "    print(a * b)\n",
    "\n",
    "\n",
    "printout_a_X_b()"
   ],
   "id": "bdfc4f390981adf2"
  }
 ],
 "metadata": {
  "kernelspec": {
   "display_name": "Python 3",
   "language": "python",
   "name": "python3"
  },
  "language_info": {
   "codemirror_mode": {
    "name": "ipython",
    "version": 2
   },
   "file_extension": ".py",
   "mimetype": "text/x-python",
   "name": "python",
   "nbconvert_exporter": "python",
   "pygments_lexer": "ipython2",
   "version": "2.7.6"
  }
 },
 "nbformat": 4,
 "nbformat_minor": 5
}
